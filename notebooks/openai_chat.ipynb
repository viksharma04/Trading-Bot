{
 "cells": [
  {
   "cell_type": "code",
   "execution_count": 1,
   "metadata": {},
   "outputs": [],
   "source": [
    "from openai import OpenAI\n",
    "from dotenv import load_dotenv\n",
    "from datetime import datetime\n",
    "\n",
    "load_dotenv()\n",
    "\n",
    "client = OpenAI()\n",
    "\n",
    "query = \"Number of up vs. down days by year\"\n",
    "\n",
    "today = datetime.today().strftime('%Y-%m-%d')\n",
    "system_prompt = f\"You are an intellegent agent that needs to generate python code that will provide output to answer user questions. The dataframe is named df and contains historical data for the S&P500 from 1927-12-30 to {today}. df has the following columns: Open, High, Low, Close, and Return. df has a datetime index. Pandas and matplotlib are already imported. Only return the code an nothing else.\"\n",
    "\n",
    "completion = client.chat.completions.create(\n",
    "    model=\"gpt-4o-mini\",\n",
    "    messages=[\n",
    "        {\"role\": \"system\", \"content\": system_prompt},\n",
    "        {\n",
    "            \"role\": \"user\",\n",
    "            \"content\": query\n",
    "        }\n",
    "    ]\n",
    ")"
   ]
  },
  {
   "cell_type": "code",
   "execution_count": 2,
   "metadata": {},
   "outputs": [
    {
     "name": "stdout",
     "output_type": "stream",
     "text": [
      "```python\n",
      "up_days = df[df['Return'] > 0].resample('Y').size()\n",
      "down_days = df[df['Return'] < 0].resample('Y').size()\n",
      "\n",
      "result = pd.DataFrame({'Up Days': up_days, 'Down Days': down_days}).fillna(0)\n",
      "result[['Up Days', 'Down Days']].plot(kind='bar', figsize=(12, 6), title='Number of Up vs Down Days by Year')\n",
      "```\n"
     ]
    }
   ],
   "source": [
    "print(completion.choices[0].message.content)"
   ]
  },
  {
   "cell_type": "code",
   "execution_count": 3,
   "metadata": {},
   "outputs": [
    {
     "name": "stdout",
     "output_type": "stream",
     "text": [
      "30\n"
     ]
    }
   ],
   "source": [
    "def execute_and_get_result(code):\n",
    "    # Create a local namespace dictionary to execute the code\n",
    "    local_namespace = {}\n",
    "\n",
    "    try:\n",
    "        # Execute the provided code within the local namespace\n",
    "        exec(code, {}, local_namespace)\n",
    "        # Retrieve the variable 'result' from the local namespace\n",
    "        if 'result' in local_namespace:\n",
    "            return local_namespace['result']\n",
    "        else:\n",
    "            return \"Error: 'result' variable not found in the code snippet.\"\n",
    "    except Exception as e:\n",
    "        return f\"Error: {e}\"\n",
    "\n",
    "# Example usage\n",
    "code_snippet = \"\"\"\n",
    "# Sample code\n",
    "x = 10\n",
    "y = 20\n",
    "result = x + y\n",
    "\"\"\"\n",
    "\n",
    "result = execute_and_get_result(code_snippet)\n",
    "print(result)  # Output: 30"
   ]
  }
 ],
 "metadata": {
  "kernelspec": {
   "display_name": ".venv",
   "language": "python",
   "name": "python3"
  },
  "language_info": {
   "codemirror_mode": {
    "name": "ipython",
    "version": 3
   },
   "file_extension": ".py",
   "mimetype": "text/x-python",
   "name": "python",
   "nbconvert_exporter": "python",
   "pygments_lexer": "ipython3",
   "version": "3.12.6"
  }
 },
 "nbformat": 4,
 "nbformat_minor": 2
}
