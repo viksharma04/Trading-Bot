{
 "cells": [
  {
   "cell_type": "markdown",
   "metadata": {},
   "source": [
    "### Calculating the put call ratio"
   ]
  },
  {
   "cell_type": "code",
   "execution_count": 5,
   "metadata": {},
   "outputs": [
    {
     "name": "stdout",
     "output_type": "stream",
     "text": [
      "Put/Call Ratio for 2023-11-17: 2.2160721124105223\n"
     ]
    }
   ],
   "source": [
    "import yfinance as yf\n",
    "from datetime import datetime, timedelta\n",
    "\n",
    "# Define the ticker symbol\n",
    "symbol = 'SPY'  # SPY ETF symbol\n",
    "ticker = yf.Ticker(symbol)\n",
    "\n",
    "# Get options expiration dates\n",
    "exp_dates = ticker.options\n",
    "\n",
    "# Find the closest big option expiration date (third Friday of the month)\n",
    "today = datetime.today()\n",
    "third_fridays = [datetime(today.year, month, 15) + timedelta(days=(4 - datetime(today.year, month, 15).weekday() + 7) % 7) for month in range(1, 13)]\n",
    "closest_third_friday = min(third_fridays, key=lambda date: (date - today if date >= today else timedelta.max))\n",
    "\n",
    "# Convert closest_third_friday to string format to match the exp_dates format\n",
    "closest_third_friday_str = closest_third_friday.strftime('%Y-%m-%d')\n",
    "\n",
    "# Check if the closest third Friday is in the available expiration dates\n",
    "if closest_third_friday_str in exp_dates:\n",
    "    # Fetch the options chain for the closest big expiration date\n",
    "    opt = ticker.option_chain(closest_third_friday_str)\n",
    "    \n",
    "    # The returned object contains two dataframes\n",
    "    calls = opt.calls\n",
    "    puts = opt.puts\n",
    "    \n",
    "    # Calculate the put/call ratio\n",
    "    total_call_volume = calls['volume'].sum()\n",
    "    total_put_volume = puts['volume'].sum()\n",
    "    \n",
    "    # Avoid division by zero\n",
    "    if total_call_volume > 0:\n",
    "        put_call_ratio = total_put_volume / total_call_volume\n",
    "    else:\n",
    "        put_call_ratio = float('inf')  # Indicates no call volume\n",
    "    \n",
    "    print(f\"Put/Call Ratio for {closest_third_friday_str}: {put_call_ratio}\")\n",
    "else:\n",
    "    print(f\"No options data available for {closest_third_friday_str}\")\n"
   ]
  }
 ],
 "metadata": {
  "kernelspec": {
   "display_name": ".venv",
   "language": "python",
   "name": "python3"
  },
  "language_info": {
   "codemirror_mode": {
    "name": "ipython",
    "version": 3
   },
   "file_extension": ".py",
   "mimetype": "text/x-python",
   "name": "python",
   "nbconvert_exporter": "python",
   "pygments_lexer": "ipython3",
   "version": "3.12.1"
  }
 },
 "nbformat": 4,
 "nbformat_minor": 2
}
