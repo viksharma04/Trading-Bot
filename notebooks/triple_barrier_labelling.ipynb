{
 "cells": [
  {
   "cell_type": "code",
   "execution_count": 4,
   "metadata": {},
   "outputs": [],
   "source": [
    "import pandas as pd\n",
    "import numpy as np\n",
    "import yfinance as yf\n",
    "\n",
    "spy = yf.Ticker(\"SPY\")\n",
    "df = spy.history(period='max', interval='1d')[['Open', 'High', 'Low', 'Close']]"
   ]
  },
  {
   "cell_type": "code",
   "execution_count": 6,
   "metadata": {},
   "outputs": [],
   "source": [
    "def triple_barrier_labeling(prices: pd.Series, volatility_window: int, upper_multiplier: float, lower_multiplier: float, time_horizon: int) -> pd.Series:\n",
    "    \"\"\"\n",
    "    Applies the triple barrier labeling method to the given price series.\n",
    "\n",
    "    Parameters:\n",
    "    - prices: pd.Series of asset prices, indexed by date/time.\n",
    "    - volatility_window: int, rolling window for volatility calculation (e.g., 20 for 20-day rolling volatility).\n",
    "    - upper_multiplier: float, scale factor for the upper barrier relative to volatility.\n",
    "    - lower_multiplier: float, scale factor for the lower barrier relative to volatility.\n",
    "    - time_horizon: int, the time horizon (in periods) over which to evaluate barrier breaches.\n",
    "\n",
    "    Returns:\n",
    "    - labels: pd.Series of labels (-1, 0, 1), where:\n",
    "        - 1 means the upper barrier was hit first (positive outcome),\n",
    "        - -1 means the lower barrier was hit first (negative outcome),\n",
    "        - 0 means no barrier was hit within the time horizon.\n",
    "    \"\"\"\n",
    "\n",
    "    # Calculate rolling volatility\n",
    "    log_returns = np.log(prices / prices.shift(1))\n",
    "    volatility = log_returns.rolling(volatility_window).std()\n",
    "\n",
    "    # Initialize labels as neutral (0)\n",
    "    labels = pd.Series(0, index=prices.index)\n",
    "\n",
    "    for i in range(len(prices)):\n",
    "        if i + time_horizon >= len(prices):\n",
    "            # Avoid index out of bounds for the last few data points\n",
    "            break\n",
    "        \n",
    "        # Set the initial price\n",
    "        initial_price = prices.iloc[i]\n",
    "        \n",
    "        # Define the dynamic barriers\n",
    "        upper_barrier = initial_price * (1 + upper_multiplier * volatility.iloc[i])\n",
    "        lower_barrier = initial_price * (1 - lower_multiplier * volatility.iloc[i])\n",
    "        \n",
    "        # Get the future price path for the next 'time_horizon' periods\n",
    "        future_prices = prices[i:i + time_horizon]\n",
    "        \n",
    "        # Check if the upper or lower barrier is hit first\n",
    "        for future_price in future_prices:\n",
    "            if future_price >= upper_barrier:\n",
    "                labels.iloc[i] = 1  # Upper barrier hit\n",
    "                break\n",
    "            elif future_price <= lower_barrier:\n",
    "                labels.iloc[i] = -1  # Lower barrier hit\n",
    "                break\n",
    "\n",
    "    return labels"
   ]
  },
  {
   "cell_type": "code",
   "execution_count": 14,
   "metadata": {},
   "outputs": [],
   "source": [
    "labels = triple_barrier_labeling(df['Close'], volatility_window=14, upper_multiplier=1, lower_multiplier=1, time_horizon=3)"
   ]
  },
  {
   "cell_type": "code",
   "execution_count": 16,
   "metadata": {},
   "outputs": [],
   "source": [
    "import pandas as pd\n",
    "\n",
    "def create_labels(df, threshold=0.01):\n",
    "    \"\"\"\n",
    "    Create labels for daily price data based on returns and target thresholds.\n",
    "\n",
    "    Parameters:\n",
    "    df (pd.DataFrame): Daily price data with 'Open' and 'Close' columns.\n",
    "    threshold (float): Percentage threshold for labeling and target calculation. Default is 0.01 (1%).\n",
    "\n",
    "    Returns:\n",
    "    pd.DataFrame: DataFrame with columns: 'bin', 'return', and 'target', indexed by date.\n",
    "    \"\"\"\n",
    "    \n",
    "    # Ensure the input df has the necessary columns\n",
    "    if not {'Open', 'Close'}.issubset(df.columns):\n",
    "        raise ValueError(\"DataFrame must contain 'Open' and 'Close' columns.\")\n",
    "    \n",
    "    # Calculate daily returns from Open to Close\n",
    "    df['return'] = (df['Close'] - df['Open']) / df['Open']\n",
    "    \n",
    "    # Create bin column based on threshold\n",
    "    df['bin'] = df['return'].apply(lambda x: 1 if x > threshold else (-1 if x < -threshold else 0))\n",
    "    \n",
    "    # Calculate target values: [upper_target, lower_target] based on threshold\n",
    "    df['target'] = df['Open'].apply(lambda x: [x * (1 + threshold), x * (1 - threshold)])\n",
    "    \n",
    "    # Select only the required columns\n",
    "    return_data = df[['bin', 'return', 'target']]\n",
    "    \n",
    "    return return_data\n",
    "\n",
    "# Example usage\n",
    "# df is a DataFrame with 'Open', 'High', 'Low', 'Close' and a datetime index (daily frequency)\n",
    "# result = create_labels(df, threshold=0.02)  # Use a 2% threshold"
   ]
  },
  {
   "cell_type": "code",
   "execution_count": 26,
   "metadata": {},
   "outputs": [
    {
     "data": {
      "text/plain": [
       "bin\n",
       " 0    7217\n",
       "-1     430\n",
       " 1     331\n",
       "Name: count, dtype: int64"
      ]
     },
     "execution_count": 26,
     "metadata": {},
     "output_type": "execute_result"
    }
   ],
   "source": [
    "create_labels(df, threshold=0.015)['bin'].value_counts()"
   ]
  },
  {
   "cell_type": "code",
   "execution_count": 27,
   "metadata": {},
   "outputs": [],
   "source": [
    "import pandas as pd\n",
    "\n",
    "def create_labels_with_volatility(df, multiplier=1):\n",
    "    \"\"\"\n",
    "    Create labels based on returns and dynamic volatility threshold from hourly price data.\n",
    "\n",
    "    Parameters:\n",
    "    df (pd.DataFrame): Hourly price data with 'Open', 'High', 'Low', and 'Close' columns.\n",
    "    multiplier (float): Multiplier to apply to the average intraday volatility (default 1).\n",
    "\n",
    "    Returns:\n",
    "    pd.DataFrame: DataFrame with columns: 'bin', 'return', and 'target', indexed by date.\n",
    "    \"\"\"\n",
    "    \n",
    "    # Ensure the input df has the necessary columns\n",
    "    if not {'Open', 'High', 'Low', 'Close'}.issubset(df.columns):\n",
    "        raise ValueError(\"DataFrame must contain 'Open', 'High', 'Low', and 'Close' columns.\")\n",
    "    \n",
    "    # Resample the data to daily frequency, keeping the first Open, the highest High, lowest Low, and last Close\n",
    "    daily_data = df.resample('D').agg({\n",
    "        'Open': 'first', \n",
    "        'High': 'max', \n",
    "        'Low': 'min', \n",
    "        'Close': 'last'\n",
    "    })\n",
    "    \n",
    "    # Calculate daily returns from Open to Close\n",
    "    daily_data['return'] = (daily_data['Close'] - daily_data['Open']) / daily_data['Open']\n",
    "    \n",
    "    # Calculate intraday volatility (High - Low) for each day\n",
    "    daily_data['intraday_volatility'] = daily_data['High'] - daily_data['Low']\n",
    "    \n",
    "    # Compute the rolling average volatility over the last 10 days\n",
    "    daily_data['avg_volatility'] = daily_data['intraday_volatility'].rolling(window=10).mean()\n",
    "    \n",
    "    # Dynamic threshold based on the multiplier and the average volatility\n",
    "    daily_data['threshold'] = daily_data['avg_volatility'] * multiplier\n",
    "    \n",
    "    # Create bin column based on the dynamic threshold\n",
    "    daily_data['bin'] = daily_data.apply(\n",
    "        lambda row: 1 if row['return'] > row['threshold'] / row['Open'] else \n",
    "                    (-1 if row['return'] < -row['threshold'] / row['Open'] else 0), axis=1)\n",
    "    \n",
    "    # Calculate target values: [upper_target, lower_target] based on dynamic threshold\n",
    "    daily_data['target'] = daily_data.apply(\n",
    "        lambda row: [row['Open'] * (1 + row['threshold'] / row['Open']), \n",
    "                     row['Open'] * (1 - row['threshold'] / row['Open'])], axis=1)\n",
    "    \n",
    "    # Select only the required columns\n",
    "    return_data = daily_data[['bin', 'return', 'target']]\n",
    "    \n",
    "    return return_data\n",
    "\n",
    "# Example usage\n",
    "# df is a DataFrame with 'Open', 'High', 'Low', 'Close' columns and a datetime index (hourly frequency)\n",
    "# result = create_labels_with_volatility(df, multiplier=1.5)  # Use a 1.5x multiplier of the average volatility"
   ]
  },
  {
   "cell_type": "code",
   "execution_count": 29,
   "metadata": {},
   "outputs": [],
   "source": [
    "df = spy.history(period='2y', interval='1h')[['Open', 'High', 'Low', 'Close']]"
   ]
  },
  {
   "cell_type": "code",
   "execution_count": 31,
   "metadata": {},
   "outputs": [
    {
     "data": {
      "text/plain": [
       "bin\n",
       "0    731\n",
       "Name: count, dtype: int64"
      ]
     },
     "execution_count": 31,
     "metadata": {},
     "output_type": "execute_result"
    }
   ],
   "source": [
    "create_labels_with_volatility(df)['bin'].value_counts()"
   ]
  }
 ],
 "metadata": {
  "kernelspec": {
   "display_name": "Python 3",
   "language": "python",
   "name": "python3"
  },
  "language_info": {
   "codemirror_mode": {
    "name": "ipython",
    "version": 3
   },
   "file_extension": ".py",
   "mimetype": "text/x-python",
   "name": "python",
   "nbconvert_exporter": "python",
   "pygments_lexer": "ipython3",
   "version": "3.12.6"
  }
 },
 "nbformat": 4,
 "nbformat_minor": 2
}
